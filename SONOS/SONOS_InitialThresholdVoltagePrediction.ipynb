{
  "nbformat": 4,
  "nbformat_minor": 0,
  "metadata": {
    "colab": {
      "provenance": []
    },
    "kernelspec": {
      "name": "python3",
      "display_name": "Python 3"
    },
    "language_info": {
      "name": "python"
    }
  },
  "cells": [
    {
      "cell_type": "markdown",
      "source": [
        "**LOAD DATA FROM EXCEL FILE**"
      ],
      "metadata": {
        "id": "SmWxthFWuk4o"
      }
    },
    {
      "cell_type": "code",
      "execution_count": null,
      "metadata": {
        "id": "0zP9JXavrFwG"
      },
      "outputs": [],
      "source": [
        "import pandas as pd\n",
        "import numpy as np\n",
        "from sklearn.preprocessing import StandardScaler\n",
        "from tensorflow.keras.models import Sequential\n",
        "from tensorflow.keras.layers import Dense, Dropout, BatchNormalization\n",
        "from tensorflow.keras.optimizers import Adam\n",
        "from tensorflow.keras.callbacks import ReduceLROnPlateau\n",
        "import matplotlib.pyplot as plt\n",
        "\n",
        "# Load the data from an Excel file\n",
        "data = pd.read_excel('initial_threshold_voltage_data.xlsx')"
      ]
    },
    {
      "cell_type": "markdown",
      "source": [
        "**PREPARE THE DATA**"
      ],
      "metadata": {
        "id": "1XFgYq2Ku7qV"
      }
    },
    {
      "cell_type": "code",
      "source": [
        "# Separate input features and target variable (Vti)\n",
        "X = data[['Cycles', 'Vgp', 'dtp', 'Vge', 'dte', 'SONOSstate']]\n",
        "y = data['Vti']\n",
        "\n",
        "# Convert categorical feature 'SONOSstate' into numerical values (0 for erased, 1 for programmed)\n",
        "X['SONOSstate'] = X['SONOSstate'].map({'erased': 0, 'programmed': 1})\n",
        "\n",
        "# Split into training and testing sets\n",
        "train_size = int(0.8 * len(X))\n",
        "X_train, X_test = X[:train_size], X[train_size:]\n",
        "y_train, y_test = y[:train_size], y[train_size:]\n",
        "\n",
        "# Standardize the input features\n",
        "scaler = StandardScaler()\n",
        "X_train_scaled = scaler.fit_transform(X_train)\n",
        "X_test_scaled = scaler.transform(X_test)"
      ],
      "metadata": {
        "id": "5fpMhe2Uu-8y"
      },
      "execution_count": null,
      "outputs": []
    },
    {
      "cell_type": "markdown",
      "source": [
        "**PREPROCESS AND TRAIN THE MODEL**"
      ],
      "metadata": {
        "id": "I5x-QqTAvCVJ"
      }
    },
    {
      "cell_type": "code",
      "source": [
        "# Define the neural network model\n",
        "model = Sequential()\n",
        "\n",
        "# Input Layer\n",
        "model.add(Dense(128, input_dim=X_train.shape[1], activation='relu'))\n",
        "model.add(BatchNormalization())\n",
        "model.add(Dropout(0.3))\n",
        "\n",
        "# Hidden Layer 1\n",
        "model.add(Dense(256, activation='relu'))\n",
        "model.add(BatchNormalization())\n",
        "model.add(Dropout(0.4))\n",
        "\n",
        "# Hidden Layer 2\n",
        "model.add(Dense(512, activation='relu'))\n",
        "model.add(BatchNormalization())\n",
        "model.add(Dropout(0.4))\n",
        "\n",
        "# Hidden Layer 3\n",
        "model.add(Dense(256, activation='relu'))\n",
        "model.add(BatchNormalization())\n",
        "model.add(Dropout(0.3))\n",
        "\n",
        "# Output Layer\n",
        "model.add(Dense(1, activation='linear'))  # Linear activation for regression\n",
        "\n",
        "# Compile the model\n",
        "optimizer = Adam(learning_rate=0.001)\n",
        "model.compile(optimizer=optimizer, loss='mean_squared_error', metrics=['mae'])\n",
        "\n",
        "# Learning rate reduction callback\n",
        "lr_reduction = ReduceLROnPlateau(monitor='val_loss', patience=10, factor=0.5, min_lr=0.00001)\n",
        "\n",
        "# Train the model\n",
        "history = model.fit(X_train_scaled, y_train,\n",
        "                    validation_data=(X_test_scaled, y_test),\n",
        "                    epochs=200,\n",
        "                    batch_size=32,\n",
        "                    callbacks=[lr_reduction])\n",
        "\n",
        "# Save the trained model\n",
        "model.save('initial_threshold_voltage_model.h5')"
      ],
      "metadata": {
        "id": "RLfXLQ16vFZ7"
      },
      "execution_count": null,
      "outputs": []
    },
    {
      "cell_type": "markdown",
      "source": [
        "**EVALUATE THE MODEL ON TESTING DATA**"
      ],
      "metadata": {
        "id": "dnR1mSw_vUuA"
      }
    },
    {
      "cell_type": "code",
      "source": [
        "# Evaluate the model\n",
        "loss, mae = model.evaluate(X_test_scaled, y_test)\n",
        "print(f'Mean Absolute Error on test set: {mae}')\n",
        "\n",
        "# Predictions\n",
        "y_pred = model.predict(X_test_scaled)\n",
        "\n",
        "# Display sample predictions\n",
        "print(\"Predicted vs Actual Initial Threshold Voltage Values:\")\n",
        "for i in range(5):\n",
        "    print(f\"Sample {i+1}: Predicted = {y_pred[i][0]:.4f}, Actual = {y_test.iloc[i]:.4f}\")"
      ],
      "metadata": {
        "id": "Hl_lTJGrvXyB"
      },
      "execution_count": null,
      "outputs": []
    },
    {
      "cell_type": "markdown",
      "source": [
        "**PLOT LOSS VS EPOCHS, ACTUAL VS PREDICTED VALUES, RESIDUALS**"
      ],
      "metadata": {
        "id": "i323jILmvfal"
      }
    },
    {
      "cell_type": "code",
      "source": [
        "# Plot Loss vs Epochs\n",
        "def plot_loss(history):\n",
        "    plt.plot(history.history['loss'], label='Training Loss')\n",
        "    plt.plot(history.history['val_loss'], label='Validation Loss')\n",
        "    plt.title('Loss vs Epochs')\n",
        "    plt.xlabel('Epochs')\n",
        "    plt.ylabel('Loss')\n",
        "    plt.legend()\n",
        "    plt.grid(True)\n",
        "    plt.show()\n",
        "\n",
        "plot_loss(history)\n",
        "\n",
        "# Plot Actual vs Predicted\n",
        "plt.scatter(y_test, y_pred, color='blue', label='Predicted vs Actual')\n",
        "plt.plot([min(y_test), max(y_test)], [min(y_test), max(y_test)], color='red', linestyle='--', label='Perfect Prediction Line')\n",
        "plt.title('Actual vs Predicted Initial Threshold Voltage')\n",
        "plt.xlabel('Actual Initial Threshold Voltage')\n",
        "plt.ylabel('Predicted Initial Threshold Voltage')\n",
        "plt.legend()\n",
        "plt.grid(True)\n",
        "plt.show()\n",
        "\n",
        "# Compute Residuals\n",
        "residuals = y_test - y_pred.flatten()\n",
        "\n",
        "# Plot Residuals\n",
        "plt.scatter(y_test, residuals, color='purple', alpha=0.6)\n",
        "plt.axhline(0, color='red', linestyle='--')\n",
        "plt.title('Residuals vs Actual Initial Threshold Voltage')\n",
        "plt.xlabel('Actual Initial Threshold Voltage')\n",
        "plt.ylabel('Residuals')\n",
        "plt.grid(True)\n",
        "plt.show()\n",
        "\n",
        "# Print Residual Statistics\n",
        "print(f'Mean of Residuals: {np.mean(residuals):.4f}')\n",
        "print(f'Standard Deviation of Residuals: {np.std(residuals):.4f}')"
      ],
      "metadata": {
        "id": "PMt7fzX_viLs"
      },
      "execution_count": null,
      "outputs": []
    }
  ]
}